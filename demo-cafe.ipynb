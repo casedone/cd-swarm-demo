{
 "cells": [
  {
   "cell_type": "code",
   "execution_count": 1,
   "metadata": {},
   "outputs": [],
   "source": [
    "#!pip install git+https://github.com/openai/swarm.git"
   ]
  },
  {
   "cell_type": "code",
   "execution_count": 2,
   "metadata": {},
   "outputs": [],
   "source": [
    "import os\n",
    "with open(\"secret/openai_api_key.txt\", \"r\") as f:\n",
    "    OPENAI_API_KEY = f.read()\n",
    "os.environ['OPENAI_API_KEY'] = OPENAI_API_KEY"
   ]
  },
  {
   "cell_type": "code",
   "execution_count": 3,
   "metadata": {},
   "outputs": [],
   "source": [
    "from swarm import Swarm, Agent\n",
    "from swarm.types import Result"
   ]
  },
  {
   "cell_type": "markdown",
   "metadata": {},
   "source": [
    "![diagram](./assets/diagram.png)"
   ]
  },
  {
   "cell_type": "markdown",
   "metadata": {},
   "source": [
    "# `context_variables`"
   ]
  },
  {
   "cell_type": "code",
   "execution_count": 4,
   "metadata": {},
   "outputs": [],
   "source": [
    "context_variables = {\"user_name\": None,\n",
    "                     \"cart\": []}"
   ]
  },
  {
   "cell_type": "markdown",
   "metadata": {},
   "source": [
    "# Agents"
   ]
  },
  {
   "cell_type": "markdown",
   "metadata": {},
   "source": [
    "## Receptionist"
   ]
  },
  {
   "cell_type": "code",
   "execution_count": 5,
   "metadata": {},
   "outputs": [],
   "source": [
    "def carting(item: str):\n",
    "    context_variables['cart'] += [item]\n",
    "    return Result(value=\"cart updated.\",\n",
    "                  context_variables=context_variables, \n",
    "                  )\n",
    "    # Use Result to update context_variables after running a tool.\n",
    "    \n",
    "\n",
    "def payment():\n",
    "    return \"payment processed.\"\n",
    "\n",
    "def update_user_name(name: str):\n",
    "    context_variables['user_name'] = name\n",
    "    context_variables['update_crm_needed'] = True\n",
    "    return Result(value=f\"Hi {name}\", agent=agent_receptionist)\n",
    "\n",
    "# Agent's instruction can be a callable that returns a string.\n",
    "def inst_reception_agent(context_variables):\n",
    "    output = \"You are a helpful receptionist at a cafe.\"\n",
    "    \"You will be friendlily ahd happily help a customer buy products from the cafe.\"\n",
    "    \"The cafe only sells specialty coffee beans and specialty tea leaves. We do not sell drinks. \"\n",
    "    \"Therefore, when customers just mention coffee, it means coffee beans, and you politely clarify to the customer. \"\n",
    "    \"When customers just mention tea, it means tea leaves, and you politely clarify to the customers. \"\n",
    "    \"You can do small talk, but circle back to ask if you can help the customer choose products from our cafe. \"\n",
    "    \"You are also responsible for the carting system and the payment system. \"\n",
    "    \"When asked about what products we sell, ask the experts (both cofee expert AI and tea expert AI) of what products are available. \"\n",
    "    \"When you are asked about the detail of the products, you will ask other AI agents who are specialized to know \"\n",
    "    \"more about the products.\"\n",
    "    if context_variables['user_name']:\n",
    "        output += f\"Today, you will serve a customer named {context_variables['user_name']}\"\n",
    "    return output\n",
    "\n",
    "agent_receptionist = Agent(\n",
    "    name=\"Receptionist\",\n",
    "    instructions=inst_reception_agent,\n",
    "    functions=[carting, payment, update_user_name],\n",
    ")"
   ]
  },
  {
   "cell_type": "markdown",
   "metadata": {},
   "source": [
    "## Coffee Expert\n"
   ]
  },
  {
   "cell_type": "code",
   "execution_count": 6,
   "metadata": {},
   "outputs": [],
   "source": [
    "with open(\"assets/coffee-data.txt\", \"r\") as f:\n",
    "    COFFEE_DATA = f.read()\n",
    "\n",
    "def coffee_search():\n",
    "    return Result(value=COFFEE_DATA, agent=agent_receptionist)\n",
    "    # Also use Result to specify the next agent. It is better for this application.\n",
    "\n",
    "agent_coffee = Agent(\n",
    "    name=\"Coffee Expert\",\n",
    "    instructions=\"You are expert in specialty coffee beans. You will answer coffee-related questions. \"\n",
    "    \"You must use `coffee_search` tool to retrieve proprietary information, and use this \"\n",
    "    \"piece of information to answer first. If the information here is not relevant to the question, \"\n",
    "    \"you may attempt to answer with your own knowledge, but you must admit that you do not have backup information.\"\n",
    "    \"If the users ask about anything unreleated to coffee products, you handoff to the receptionist AI. \",\n",
    "    functions=[coffee_search]\n",
    ")"
   ]
  },
  {
   "cell_type": "markdown",
   "metadata": {},
   "source": [
    "## Tea Expert"
   ]
  },
  {
   "cell_type": "code",
   "execution_count": 7,
   "metadata": {},
   "outputs": [],
   "source": [
    "with open(\"assets/tea-data.txt\",\"r\") as f:\n",
    "    TEA_DATA = f.read()\n",
    "    \n",
    "def tea_search():\n",
    "    return TEA_DATA\n",
    "    # This tools does not specify the next agent. So, there is a chance that the flow gets messed up.\n",
    "\n",
    "agent_tea = Agent(\n",
    "    name=\"Tea Expert\",\n",
    "    instructions=\"You are expert in specialty tea leaves. You will answer tea-related questions. \"\n",
    "    \"You must use `tea_search` tool to retrieve proprietary information, and use this \"\n",
    "    \"piece of information to answer first. If the information here is not relevant to the question, \"\n",
    "    \"you may attempt to answer with your own knowledge, but you must admit that you do not have backup information.\"\n",
    "    \"If the users ask about anything unreleated to tea products, you handoff to the receptionist AI. \",\n",
    "    functions=[tea_search]\n",
    ")"
   ]
  },
  {
   "cell_type": "markdown",
   "metadata": {},
   "source": [
    "## Connections"
   ]
  },
  {
   "cell_type": "code",
   "execution_count": 8,
   "metadata": {},
   "outputs": [],
   "source": [
    "def transfer_to_receptionist():\n",
    "    return agent_receptionist\n",
    "\n",
    "def transfer_to_coffee_expert():\n",
    "    return agent_coffee\n",
    "\n",
    "def transfer_to_tea_expert():\n",
    "    return agent_tea"
   ]
  },
  {
   "cell_type": "code",
   "execution_count": 9,
   "metadata": {},
   "outputs": [],
   "source": [
    "agent_receptionist.functions.extend([transfer_to_coffee_expert, transfer_to_tea_expert])\n",
    "agent_coffee.functions.append(transfer_to_receptionist)\n",
    "agent_tea.functions.append(transfer_to_receptionist)"
   ]
  },
  {
   "cell_type": "markdown",
   "metadata": {},
   "source": [
    "# Run"
   ]
  },
  {
   "cell_type": "code",
   "execution_count": 10,
   "metadata": {},
   "outputs": [],
   "source": [
    "client = Swarm()"
   ]
  },
  {
   "cell_type": "code",
   "execution_count": 11,
   "metadata": {},
   "outputs": [],
   "source": [
    "messages = [{\"role\":\"user\", \"content\": \"what coffee bean do you have?\"}]"
   ]
  },
  {
   "cell_type": "code",
   "execution_count": 12,
   "metadata": {},
   "outputs": [],
   "source": [
    "responses = client.run(\n",
    "    agent=agent_receptionist,\n",
    "    messages=messages,\n",
    "    context_variables=context_variables,\n",
    "    max_turns=float('inf'),\n",
    "    model_override=\"gpt-4o-mini\",\n",
    "    execute_tools=True, #If False, interrupt execution and immediately returns tool_calls message when an Agent tries to call a function\n",
    "    stream=False,\n",
    "    debug=False\n",
    ")"
   ]
  },
  {
   "cell_type": "code",
   "execution_count": 13,
   "metadata": {},
   "outputs": [
    {
     "data": {
      "text/plain": [
       "{'messages': [{'content': None,\n",
       "   'refusal': None,\n",
       "   'role': 'assistant',\n",
       "   'audio': None,\n",
       "   'function_call': None,\n",
       "   'tool_calls': [{'id': 'call_h2L5rkJ38IyxXyTmrt9o96pA',\n",
       "     'function': {'arguments': '{}', 'name': 'transfer_to_coffee_expert'},\n",
       "     'type': 'function'}],\n",
       "   'sender': 'Receptionist'},\n",
       "  {'role': 'tool',\n",
       "   'tool_call_id': 'call_h2L5rkJ38IyxXyTmrt9o96pA',\n",
       "   'tool_name': 'transfer_to_coffee_expert',\n",
       "   'content': '{\"assistant\": \"Coffee Expert\"}'},\n",
       "  {'content': None,\n",
       "   'refusal': None,\n",
       "   'role': 'assistant',\n",
       "   'audio': None,\n",
       "   'function_call': None,\n",
       "   'tool_calls': [{'id': 'call_zAo6kOQ2Xpypbl8RP1sfWnMY',\n",
       "     'function': {'arguments': '{}', 'name': 'coffee_search'},\n",
       "     'type': 'function'}],\n",
       "   'sender': 'Coffee Expert'},\n",
       "  {'role': 'tool',\n",
       "   'tool_call_id': 'call_zAo6kOQ2Xpypbl8RP1sfWnMY',\n",
       "   'tool_name': 'coffee_search',\n",
       "   'content': \"# Product Master of Specialty Coffee Beans\\n\\n## 1. Ethiopian Yirgacheffe\\n- **Origin**: Yirgacheffe, Ethiopia, a region well-known for producing some of the finest and most distinctive coffees in the world.\\n- **Taste**: Bright acidity with floral and fruity notes, including jasmine, lemon, and hints of blueberry. This coffee is renowned for its clean and vibrant flavor profile, making it an ideal choice for those who enjoy light and fruity coffees with a complex aromatic bouquet.\\n- **Recommended Brewing**: Pour-over (e.g., Chemex or V60) to emphasize its delicate flavors and highlight the nuanced floral and citrusy notes. The pour-over method brings out the subtlety and complexity that this coffee has to offer, allowing each cup to reveal new layers of flavor.\\n- **Price per 250g**: $18. This affordable price for such a high-quality coffee makes it accessible to anyone seeking a refined and aromatic coffee experience.\\n\\n## 2. Jamaican Blue Mountain\\n- **Origin**: Blue Mountains, Jamaica, one of the most famous coffee-growing regions globally, known for its misty climate and nutrient-rich volcanic soil, which contribute to the coffee's unique qualities.\\n- **Taste**: Smooth and mild, with balanced acidity and a creamy body, featuring subtle chocolate, nutty, and floral notes. The coffee's profile is well-rounded and harmonious, with a gentle sweetness that makes it very approachable while still offering a complex flavor experience. This rare coffee is treasured for its distinctive taste and silky finish.\\n- **Recommended Brewing**: French Press or siphon to bring out its complex layers and silky texture. The French Press method helps to extract the rich, full-bodied characteristics of the coffee, while the siphon brewing method adds a level of clarity that elevates the delicate flavors and aromatic qualities, allowing for a truly luxurious experience.\\n- **Price per 250g**: $45. This premium price reflects the rarity and quality of Jamaican Blue Mountain coffee, which is often considered one of the most exclusive and sought-after coffees in the world.\\n\\n## 3. Panama Geisha\\n- **Origin**: Boquete, Panama, a region that has gained international acclaim for producing award-winning Geisha beans, which are highly prized by coffee connoisseurs for their extraordinary flavor complexity and aromatic intensity.\\n- **Taste**: Complex and aromatic, with bright acidity and layered flavors of jasmine, peach, and tropical fruits. The Geisha bean is celebrated for its intricate flavor profile, with each sip revealing different notes ranging from floral to fruity. The vibrant acidity, combined with its delicate sweetness, creates an unforgettable taste experience that is both refined and dynamic, making it a favorite among specialty coffee lovers.\\n- **Recommended Brewing**: Pour-over (e.g., Kalita Wave) to best highlight its nuanced and vibrant characteristics. The Kalita Wave allows for precise control over the brewing process, which helps to accentuate the layered flavors and maintain the clarity of the coffee. This method ensures that every cup captures the true essence of the Geisha bean, making it an ideal brewing choice for this exceptional coffee.\\n- **Price per 250g**: $50. As one of the most prestigious coffee varieties, the higher price reflects its rarity, careful cultivation, and the exceptional experience it delivers, making it a worthwhile indulgence for those seeking a premium coffee.\\n\\n\"},\n",
       "  {'content': \"We have the following coffee beans available:\\n\\n1. **Ethiopian Yirgacheffe**\\n   - **Origin**: Yirgacheffe, Ethiopia\\n   - **Taste**: Bright acidity with floral and fruity notes (jasmine, lemon, hints of blueberry).\\n   - **Recommended Brewing**: Pour-over (Chemex or V60).\\n   - **Price per 250g**: $18\\n\\n2. **Jamaican Blue Mountain**\\n   - **Origin**: Blue Mountains, Jamaica\\n   - **Taste**: Smooth and mild with balanced acidity, featuring chocolate, nutty, and floral notes.\\n   - **Recommended Brewing**: French Press or siphon.\\n   - **Price per 250g**: $45\\n\\n3. **Panama Geisha**\\n   - **Origin**: Boquete, Panama\\n   - **Taste**: Complex and aromatic, with bright acidity and flavors of jasmine, peach, and tropical fruits.\\n   - **Recommended Brewing**: Pour-over (Kalita Wave).\\n   - **Price per 250g**: $50\\n\\nLet me know if you'd like to order any of these!\",\n",
       "   'refusal': None,\n",
       "   'role': 'assistant',\n",
       "   'audio': None,\n",
       "   'function_call': None,\n",
       "   'tool_calls': None,\n",
       "   'sender': 'Receptionist'}],\n",
       " 'agent': Agent(name='Receptionist', model='gpt-4o', instructions=<function inst_reception_agent at 0x106134a40>, functions=[<function carting at 0x106134180>, <function payment at 0x1061347c0>, <function update_user_name at 0x106134400>, <function transfer_to_coffee_expert at 0x106134540>, <function transfer_to_tea_expert at 0x106134cc0>], tool_choice=None, parallel_tool_calls=True),\n",
       " 'context_variables': {'user_name': None, 'cart': []}}"
      ]
     },
     "execution_count": 13,
     "metadata": {},
     "output_type": "execute_result"
    }
   ],
   "source": [
    "responses.__dict__"
   ]
  },
  {
   "cell_type": "markdown",
   "metadata": {},
   "source": [
    "# `run_demo_loop`"
   ]
  },
  {
   "cell_type": "code",
   "execution_count": 14,
   "metadata": {},
   "outputs": [],
   "source": [
    "from swarm.repl import run_demo_loop"
   ]
  },
  {
   "cell_type": "code",
   "execution_count": 17,
   "metadata": {},
   "outputs": [
    {
     "name": "stdout",
     "output_type": "stream",
     "text": [
      "Starting Swarm CLI 🐝\n"
     ]
    },
    {
     "name": "stdout",
     "output_type": "stream",
     "text": [
      "\u001b[94mReceptionist\u001b[0m: \u001b[95mtransfer_to_coffee_expert\u001b[0m()\n",
      "\u001b[94mCoffee Expert\u001b[0m: \u001b[95mcoffee_search\u001b[0m()\n",
      "\u001b[94mReceptionist\u001b[0m: We offer three specialty coffee beans:\n",
      "\n",
      "1. **Ethiopian Yirgacheffe**  \n",
      "   - **Taste**: Bright acidity with floral and fruity notes like jasmine and lemon.\n",
      "   - **Recommended Brewing**: Pour-over (e.g., Chemex or V60).\n",
      "   - **Price per 250g**: $18.\n",
      "\n",
      "2. **Jamaican Blue Mountain**  \n",
      "   - **Taste**: Smooth and mild, with balanced acidity and notes of chocolate and nuts.\n",
      "   - **Recommended Brewing**: French Press or siphon.\n",
      "   - **Price per 250g**: $45.\n",
      "\n",
      "3. **Panama Geisha**  \n",
      "   - **Taste**: Complex and aromatic with flavors of jasmine, peach, and tropical fruits.\n",
      "   - **Recommended Brewing**: Pour-over (e.g., Kalita Wave).\n",
      "   - **Price per 250g**: $50.\n",
      "\n",
      "If you're interested in trying any of these, let me know!\n",
      "\u001b[94mReceptionist\u001b[0m: \u001b[95mcarting\u001b[0m(\"item\"= \"Jamaican Blue Mountain\")\n",
      "\u001b[94mReceptionist\u001b[0m: The Jamaican Blue Mountain coffee has been added to your cart. If you wish to proceed with the purchase or need further assistance, just let me know!\n",
      "\u001b[94mReceptionist\u001b[0m: \u001b[95mtransfer_to_tea_expert\u001b[0m()\n",
      "\u001b[94mTea Expert\u001b[0m: \u001b[95mtea_search\u001b[0m()\n",
      "\u001b[94mTea Expert\u001b[0m: Here's a selection of our specialty tea leaves:\n",
      "\n",
      "1. **Dragon Well (Longjing) Green Tea**\n",
      "   - **Taste**: Sweet, nutty, and vegetal with a smooth finish.\n",
      "   - **Recommended Brewing**: 80°C (176°F) water for 2-3 minutes. Ideal in a glass teapot or gaiwan.\n",
      "   - **Price**: $35 per 250g.\n",
      "\n",
      "2. **Gyokuro Japanese Green Tea**\n",
      "   - **Taste**: Sweet umami flavor with delicate seaweed notes.\n",
      "   - **Recommended Brewing**: 60°C (140°F) water for 1.5-2 minutes. Use a kyusu teapot.\n",
      "   - **Price**: $65 per 250g.\n",
      "\n",
      "3. **Darjeeling First Flush Black Tea**\n",
      "   - **Taste**: Bright, floral with a muscatel grape note.\n",
      "   - **Recommended Brewing**: 90°C (194°F) water for 3-4 minutes. Best in ceramic or porcelain teapot.\n",
      "   - **Price**: $45 per 250g.\n",
      "\n",
      "If you're interested in any of these products or need assistance with your choice, feel free to let me know!\n",
      "\u001b[94mTea Expert\u001b[0m: Could you please let me know how I may assist you with our tea or coffee products?\n",
      "\u001b[94mTea Expert\u001b[0m: \u001b[95mtea_search\u001b[0m()\n",
      "\u001b[94mTea Expert\u001b[0m: \u001b[95mtea_search\u001b[0m()\n",
      "\u001b[94mTea Expert\u001b[0m: The Gyokuro Japanese Green Tea has been added to your cart. If there's anything else you need or if you'd like to proceed with the checkout, just let me know!\n",
      "\u001b[94mTea Expert\u001b[0m: \u001b[95mcarting\u001b[0m(\"item\"= \"Gyokuro Japanese Green Tea\")\n",
      "\u001b[94mTea Expert\u001b[0m: It seems there was an error while trying to add the Gyokuro Japanese Green Tea to your cart. I'll make sure to resolve this issue. Would you like me to assist you with anything else in the meantime?\n",
      "\u001b[94mTea Expert\u001b[0m: \u001b[95mtransfer_to_receptionist\u001b[0m()\n",
      "\u001b[94mReceptionist\u001b[0m: I'm here to help! It seems we had a little mix-up earlier. I'll try adding the Gyokuro Japanese Green Tea to your cart again.\n",
      "\u001b[95mcarting\u001b[0m(\"item\"= \"Gyokuro Japanese Green Tea\")\n",
      "\u001b[94mReceptionist\u001b[0m: The Gyokuro Japanese Green Tea has now been successfully added to your cart. If there's anything else you need or if you wish to proceed with checkout, feel free to let me know!\n",
      "\u001b[94mReceptionist\u001b[0m: \u001b[95mpayment\u001b[0m()\n",
      "\u001b[94mReceptionist\u001b[0m: Your payment has been successfully processed. Thank you for your purchase! If there's anything else you need, feel free to ask. Enjoy your Jamaican Blue Mountain coffee and Gyokuro Japanese Green Tea!\n"
     ]
    },
    {
     "ename": "KeyboardInterrupt",
     "evalue": "Interrupted by user",
     "output_type": "error",
     "traceback": [
      "\u001b[0;31m---------------------------------------------------------------------------\u001b[0m",
      "\u001b[0;31mKeyboardInterrupt\u001b[0m                         Traceback (most recent call last)",
      "Cell \u001b[0;32mIn[17], line 1\u001b[0m\n\u001b[0;32m----> 1\u001b[0m \u001b[43mrun_demo_loop\u001b[49m\u001b[43m(\u001b[49m\u001b[43magent_receptionist\u001b[49m\u001b[43m)\u001b[49m\n\u001b[1;32m      2\u001b[0m \u001b[38;5;66;03m# when running this, chat history is cleared every time.\u001b[39;00m\n",
      "File \u001b[0;32m~/miniconda3/envs/swarm/lib/python3.11/site-packages/swarm/repl/repl.py:70\u001b[0m, in \u001b[0;36mrun_demo_loop\u001b[0;34m(starting_agent, context_variables, stream, debug)\u001b[0m\n\u001b[1;32m     67\u001b[0m agent \u001b[38;5;241m=\u001b[39m starting_agent\n\u001b[1;32m     69\u001b[0m \u001b[38;5;28;01mwhile\u001b[39;00m \u001b[38;5;28;01mTrue\u001b[39;00m:\n\u001b[0;32m---> 70\u001b[0m     user_input \u001b[38;5;241m=\u001b[39m \u001b[38;5;28;43minput\u001b[39;49m\u001b[43m(\u001b[49m\u001b[38;5;124;43m\"\u001b[39;49m\u001b[38;5;130;43;01m\\033\u001b[39;49;00m\u001b[38;5;124;43m[90mUser\u001b[39;49m\u001b[38;5;130;43;01m\\033\u001b[39;49;00m\u001b[38;5;124;43m[0m: \u001b[39;49m\u001b[38;5;124;43m\"\u001b[39;49m\u001b[43m)\u001b[49m\n\u001b[1;32m     71\u001b[0m     messages\u001b[38;5;241m.\u001b[39mappend({\u001b[38;5;124m\"\u001b[39m\u001b[38;5;124mrole\u001b[39m\u001b[38;5;124m\"\u001b[39m: \u001b[38;5;124m\"\u001b[39m\u001b[38;5;124muser\u001b[39m\u001b[38;5;124m\"\u001b[39m, \u001b[38;5;124m\"\u001b[39m\u001b[38;5;124mcontent\u001b[39m\u001b[38;5;124m\"\u001b[39m: user_input})\n\u001b[1;32m     73\u001b[0m     response \u001b[38;5;241m=\u001b[39m client\u001b[38;5;241m.\u001b[39mrun(\n\u001b[1;32m     74\u001b[0m         agent\u001b[38;5;241m=\u001b[39magent,\n\u001b[1;32m     75\u001b[0m         messages\u001b[38;5;241m=\u001b[39mmessages,\n\u001b[0;32m   (...)\u001b[0m\n\u001b[1;32m     78\u001b[0m         debug\u001b[38;5;241m=\u001b[39mdebug,\n\u001b[1;32m     79\u001b[0m     )\n",
      "File \u001b[0;32m~/miniconda3/envs/swarm/lib/python3.11/site-packages/ipykernel/kernelbase.py:1282\u001b[0m, in \u001b[0;36mKernel.raw_input\u001b[0;34m(self, prompt)\u001b[0m\n\u001b[1;32m   1280\u001b[0m     msg \u001b[38;5;241m=\u001b[39m \u001b[38;5;124m\"\u001b[39m\u001b[38;5;124mraw_input was called, but this frontend does not support input requests.\u001b[39m\u001b[38;5;124m\"\u001b[39m\n\u001b[1;32m   1281\u001b[0m     \u001b[38;5;28;01mraise\u001b[39;00m StdinNotImplementedError(msg)\n\u001b[0;32m-> 1282\u001b[0m \u001b[38;5;28;01mreturn\u001b[39;00m \u001b[38;5;28;43mself\u001b[39;49m\u001b[38;5;241;43m.\u001b[39;49m\u001b[43m_input_request\u001b[49m\u001b[43m(\u001b[49m\n\u001b[1;32m   1283\u001b[0m \u001b[43m    \u001b[49m\u001b[38;5;28;43mstr\u001b[39;49m\u001b[43m(\u001b[49m\u001b[43mprompt\u001b[49m\u001b[43m)\u001b[49m\u001b[43m,\u001b[49m\n\u001b[1;32m   1284\u001b[0m \u001b[43m    \u001b[49m\u001b[38;5;28;43mself\u001b[39;49m\u001b[38;5;241;43m.\u001b[39;49m\u001b[43m_parent_ident\u001b[49m\u001b[43m[\u001b[49m\u001b[38;5;124;43m\"\u001b[39;49m\u001b[38;5;124;43mshell\u001b[39;49m\u001b[38;5;124;43m\"\u001b[39;49m\u001b[43m]\u001b[49m\u001b[43m,\u001b[49m\n\u001b[1;32m   1285\u001b[0m \u001b[43m    \u001b[49m\u001b[38;5;28;43mself\u001b[39;49m\u001b[38;5;241;43m.\u001b[39;49m\u001b[43mget_parent\u001b[49m\u001b[43m(\u001b[49m\u001b[38;5;124;43m\"\u001b[39;49m\u001b[38;5;124;43mshell\u001b[39;49m\u001b[38;5;124;43m\"\u001b[39;49m\u001b[43m)\u001b[49m\u001b[43m,\u001b[49m\n\u001b[1;32m   1286\u001b[0m \u001b[43m    \u001b[49m\u001b[43mpassword\u001b[49m\u001b[38;5;241;43m=\u001b[39;49m\u001b[38;5;28;43;01mFalse\u001b[39;49;00m\u001b[43m,\u001b[49m\n\u001b[1;32m   1287\u001b[0m \u001b[43m\u001b[49m\u001b[43m)\u001b[49m\n",
      "File \u001b[0;32m~/miniconda3/envs/swarm/lib/python3.11/site-packages/ipykernel/kernelbase.py:1325\u001b[0m, in \u001b[0;36mKernel._input_request\u001b[0;34m(self, prompt, ident, parent, password)\u001b[0m\n\u001b[1;32m   1322\u001b[0m \u001b[38;5;28;01mexcept\u001b[39;00m \u001b[38;5;167;01mKeyboardInterrupt\u001b[39;00m:\n\u001b[1;32m   1323\u001b[0m     \u001b[38;5;66;03m# re-raise KeyboardInterrupt, to truncate traceback\u001b[39;00m\n\u001b[1;32m   1324\u001b[0m     msg \u001b[38;5;241m=\u001b[39m \u001b[38;5;124m\"\u001b[39m\u001b[38;5;124mInterrupted by user\u001b[39m\u001b[38;5;124m\"\u001b[39m\n\u001b[0;32m-> 1325\u001b[0m     \u001b[38;5;28;01mraise\u001b[39;00m \u001b[38;5;167;01mKeyboardInterrupt\u001b[39;00m(msg) \u001b[38;5;28;01mfrom\u001b[39;00m \u001b[38;5;28;01mNone\u001b[39;00m\n\u001b[1;32m   1326\u001b[0m \u001b[38;5;28;01mexcept\u001b[39;00m \u001b[38;5;167;01mException\u001b[39;00m:\n\u001b[1;32m   1327\u001b[0m     \u001b[38;5;28mself\u001b[39m\u001b[38;5;241m.\u001b[39mlog\u001b[38;5;241m.\u001b[39mwarning(\u001b[38;5;124m\"\u001b[39m\u001b[38;5;124mInvalid Message:\u001b[39m\u001b[38;5;124m\"\u001b[39m, exc_info\u001b[38;5;241m=\u001b[39m\u001b[38;5;28;01mTrue\u001b[39;00m)\n",
      "\u001b[0;31mKeyboardInterrupt\u001b[0m: Interrupted by user"
     ]
    }
   ],
   "source": [
    "run_demo_loop(agent_receptionist)\n",
    "# when running this, chat history is cleared every time."
   ]
  },
  {
   "cell_type": "code",
   "execution_count": 18,
   "metadata": {},
   "outputs": [
    {
     "data": {
      "text/plain": [
       "{'user_name': 'Benz',\n",
       " 'cart': ['Darjeeling First Flush Black Tea',\n",
       "  'Jamaican Blue Mountain',\n",
       "  'Gyokuro Japanese Green Tea'],\n",
       " 'update_crm_needed': True}"
      ]
     },
     "execution_count": 18,
     "metadata": {},
     "output_type": "execute_result"
    }
   ],
   "source": [
    "context_variables"
   ]
  },
  {
   "cell_type": "code",
   "execution_count": null,
   "metadata": {},
   "outputs": [],
   "source": []
  }
 ],
 "metadata": {
  "kernelspec": {
   "display_name": "swarm",
   "language": "python",
   "name": "python3"
  },
  "language_info": {
   "codemirror_mode": {
    "name": "ipython",
    "version": 3
   },
   "file_extension": ".py",
   "mimetype": "text/x-python",
   "name": "python",
   "nbconvert_exporter": "python",
   "pygments_lexer": "ipython3",
   "version": "3.11.10"
  }
 },
 "nbformat": 4,
 "nbformat_minor": 2
}
